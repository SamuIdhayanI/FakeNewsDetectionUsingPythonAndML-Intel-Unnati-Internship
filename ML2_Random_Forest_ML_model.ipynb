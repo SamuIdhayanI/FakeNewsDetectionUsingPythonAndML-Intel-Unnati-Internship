{
 "cells": [
  {
   "cell_type": "markdown",
   "id": "154613e8-aad0-48b8-b48a-336da6f064ed",
   "metadata": {
    "id": "154613e8-aad0-48b8-b48a-336da6f064ed"
   },
   "source": [
    "<font size =\"4\">**Importing all the libraries**</font>"
   ]
  },
  {
   "cell_type": "code",
   "execution_count": 1,
   "id": "2cd6f8d3-9ed7-4241-afc0-f277c177a2d7",
   "metadata": {
    "colab": {
     "base_uri": "https://localhost:8080/"
    },
    "id": "2cd6f8d3-9ed7-4241-afc0-f277c177a2d7",
    "outputId": "49244ec0-b85c-4479-e942-ed6811ccec31"
   },
   "outputs": [
    {
     "name": "stderr",
     "output_type": "stream",
     "text": [
      "[nltk_data] Downloading package punkt to /home/u194134/nltk_data...\n",
      "[nltk_data]   Package punkt is already up-to-date!\n",
      "[nltk_data] Downloading package stopwords to\n",
      "[nltk_data]     /home/u194134/nltk_data...\n",
      "[nltk_data]   Package stopwords is already up-to-date!\n",
      "[nltk_data] Downloading package wordnet to /home/u194134/nltk_data...\n",
      "[nltk_data]   Package wordnet is already up-to-date!\n"
     ]
    }
   ],
   "source": [
    "import pandas as pd\n",
    "import seaborn as sns\n",
    "import matplotlib.pyplot as plt\n",
    "from tqdm import tqdm\n",
    "import re\n",
    "import nltk\n",
    "import os\n",
    "nltk.download('punkt')\n",
    "nltk.download('stopwords')\n",
    "from nltk.tokenize import word_tokenize\n",
    "from sklearn.model_selection import train_test_split\n",
    "from sklearn.metrics import accuracy_score\n",
    "from sklearn.linear_model import LogisticRegression\n",
    "\n",
    "#additioinally imported\n",
    "import string\n",
    "from nltk.corpus import stopwords\n",
    "from nltk.stem import WordNetLemmatizer\n",
    "nltk.download('wordnet')\n",
    "from sklearn.feature_extraction.text import TfidfVectorizer\n",
    "from sklearn.metrics import confusion_matrix\n",
    "from sklearn.ensemble import RandomForestClassifier\n",
    "\n",
    "\n",
    "#nltk.download('all')"
   ]
  },
  {
   "cell_type": "markdown",
   "id": "HdVmYUY2M3nI",
   "metadata": {
    "id": "HdVmYUY2M3nI"
   },
   "source": [
    "------------------------------------------------------------"
   ]
  },
  {
   "cell_type": "markdown",
   "id": "fa79260e-499f-4c75-8738-dc7ccae00ece",
   "metadata": {
    "id": "fa79260e-499f-4c75-8738-dc7ccae00ece"
   },
   "source": [
    "<font size =\"4\">**Downloading the dataset and extracting it to the appropriate data directory.**</font>"
   ]
  },
  {
   "cell_type": "code",
   "execution_count": 2,
   "id": "d5ea95d6-479f-4d44-b030-e01765f15bc3",
   "metadata": {
    "colab": {
     "base_uri": "https://localhost:8080/"
    },
    "id": "d5ea95d6-479f-4d44-b030-e01765f15bc3",
    "outputId": "54a45e3f-0c9c-45c1-946b-0c2bf049767b"
   },
   "outputs": [],
   "source": [
    "data_directory = 'data/'\n",
    "if not os.path.exists(data_directory):\n",
    "    !mkdir data/\n",
    "    !wget https://onlineacademiccommunity.uvic.ca/isot/wp-content/uploads/sites/7295/2023/03/News-_dataset.zip --directory-prefix=data/\n",
    "    !unzip /content/News-_dataset.zip -d data/"
   ]
  },
  {
   "cell_type": "markdown",
   "id": "PyvKKaiTM6VM",
   "metadata": {
    "id": "PyvKKaiTM6VM"
   },
   "source": [
    "-------------------------------------------------------------------"
   ]
  },
  {
   "cell_type": "markdown",
   "id": "399e8186-b94c-4f12-ae71-dd37341bb3ca",
   "metadata": {
    "id": "399e8186-b94c-4f12-ae71-dd37341bb3ca"
   },
   "source": [
    "<font size=\"4\">**Read the data csv file**</font>"
   ]
  },
  {
   "cell_type": "code",
   "execution_count": 3,
   "id": "885fb660-a2c1-4cd8-b6d6-43bff7bab973",
   "metadata": {
    "colab": {
     "base_uri": "https://localhost:8080/",
     "height": 206
    },
    "id": "885fb660-a2c1-4cd8-b6d6-43bff7bab973",
    "outputId": "c61b54cc-8357-411c-90d6-cdb7d1aa0b22"
   },
   "outputs": [
    {
     "data": {
      "text/html": [
       "<div>\n",
       "<style scoped>\n",
       "    .dataframe tbody tr th:only-of-type {\n",
       "        vertical-align: middle;\n",
       "    }\n",
       "\n",
       "    .dataframe tbody tr th {\n",
       "        vertical-align: top;\n",
       "    }\n",
       "\n",
       "    .dataframe thead th {\n",
       "        text-align: right;\n",
       "    }\n",
       "</style>\n",
       "<table border=\"1\" class=\"dataframe\">\n",
       "  <thead>\n",
       "    <tr style=\"text-align: right;\">\n",
       "      <th></th>\n",
       "      <th>title</th>\n",
       "      <th>text</th>\n",
       "      <th>subject</th>\n",
       "      <th>date</th>\n",
       "    </tr>\n",
       "  </thead>\n",
       "  <tbody>\n",
       "    <tr>\n",
       "      <th>0</th>\n",
       "      <td>Donald Trump Sends Out Embarrassing New Year’...</td>\n",
       "      <td>Donald Trump just couldn t wish all Americans ...</td>\n",
       "      <td>News</td>\n",
       "      <td>December 31, 2017</td>\n",
       "    </tr>\n",
       "    <tr>\n",
       "      <th>1</th>\n",
       "      <td>Drunk Bragging Trump Staffer Started Russian ...</td>\n",
       "      <td>House Intelligence Committee Chairman Devin Nu...</td>\n",
       "      <td>News</td>\n",
       "      <td>December 31, 2017</td>\n",
       "    </tr>\n",
       "    <tr>\n",
       "      <th>2</th>\n",
       "      <td>Sheriff David Clarke Becomes An Internet Joke...</td>\n",
       "      <td>On Friday, it was revealed that former Milwauk...</td>\n",
       "      <td>News</td>\n",
       "      <td>December 30, 2017</td>\n",
       "    </tr>\n",
       "    <tr>\n",
       "      <th>3</th>\n",
       "      <td>Trump Is So Obsessed He Even Has Obama’s Name...</td>\n",
       "      <td>On Christmas day, Donald Trump announced that ...</td>\n",
       "      <td>News</td>\n",
       "      <td>December 29, 2017</td>\n",
       "    </tr>\n",
       "    <tr>\n",
       "      <th>4</th>\n",
       "      <td>Pope Francis Just Called Out Donald Trump Dur...</td>\n",
       "      <td>Pope Francis used his annual Christmas Day mes...</td>\n",
       "      <td>News</td>\n",
       "      <td>December 25, 2017</td>\n",
       "    </tr>\n",
       "  </tbody>\n",
       "</table>\n",
       "</div>"
      ],
      "text/plain": [
       "                                               title  \\\n",
       "0   Donald Trump Sends Out Embarrassing New Year’...   \n",
       "1   Drunk Bragging Trump Staffer Started Russian ...   \n",
       "2   Sheriff David Clarke Becomes An Internet Joke...   \n",
       "3   Trump Is So Obsessed He Even Has Obama’s Name...   \n",
       "4   Pope Francis Just Called Out Donald Trump Dur...   \n",
       "\n",
       "                                                text subject  \\\n",
       "0  Donald Trump just couldn t wish all Americans ...    News   \n",
       "1  House Intelligence Committee Chairman Devin Nu...    News   \n",
       "2  On Friday, it was revealed that former Milwauk...    News   \n",
       "3  On Christmas day, Donald Trump announced that ...    News   \n",
       "4  Pope Francis used his annual Christmas Day mes...    News   \n",
       "\n",
       "                date  \n",
       "0  December 31, 2017  \n",
       "1  December 31, 2017  \n",
       "2  December 30, 2017  \n",
       "3  December 29, 2017  \n",
       "4  December 25, 2017  "
      ]
     },
     "execution_count": 3,
     "metadata": {},
     "output_type": "execute_result"
    }
   ],
   "source": [
    "fake_data = pd.read_csv('data/Fake.csv')\n",
    "fake_data.head()"
   ]
  },
  {
   "cell_type": "code",
   "execution_count": 4,
   "id": "cb2a7993-0634-48e6-9bdf-7316c5c2ea02",
   "metadata": {
    "colab": {
     "base_uri": "https://localhost:8080/",
     "height": 250
    },
    "id": "cb2a7993-0634-48e6-9bdf-7316c5c2ea02",
    "outputId": "5f24b256-5b2e-49cc-cbb9-981c62cc1627"
   },
   "outputs": [
    {
     "data": {
      "text/html": [
       "<div>\n",
       "<style scoped>\n",
       "    .dataframe tbody tr th:only-of-type {\n",
       "        vertical-align: middle;\n",
       "    }\n",
       "\n",
       "    .dataframe tbody tr th {\n",
       "        vertical-align: top;\n",
       "    }\n",
       "\n",
       "    .dataframe thead th {\n",
       "        text-align: right;\n",
       "    }\n",
       "</style>\n",
       "<table border=\"1\" class=\"dataframe\">\n",
       "  <thead>\n",
       "    <tr style=\"text-align: right;\">\n",
       "      <th></th>\n",
       "      <th>title</th>\n",
       "      <th>text</th>\n",
       "      <th>subject</th>\n",
       "      <th>date</th>\n",
       "    </tr>\n",
       "  </thead>\n",
       "  <tbody>\n",
       "    <tr>\n",
       "      <th>0</th>\n",
       "      <td>As U.S. budget fight looms, Republicans flip t...</td>\n",
       "      <td>WASHINGTON (Reuters) - The head of a conservat...</td>\n",
       "      <td>politicsNews</td>\n",
       "      <td>December 31, 2017</td>\n",
       "    </tr>\n",
       "    <tr>\n",
       "      <th>1</th>\n",
       "      <td>U.S. military to accept transgender recruits o...</td>\n",
       "      <td>WASHINGTON (Reuters) - Transgender people will...</td>\n",
       "      <td>politicsNews</td>\n",
       "      <td>December 29, 2017</td>\n",
       "    </tr>\n",
       "    <tr>\n",
       "      <th>2</th>\n",
       "      <td>Senior U.S. Republican senator: 'Let Mr. Muell...</td>\n",
       "      <td>WASHINGTON (Reuters) - The special counsel inv...</td>\n",
       "      <td>politicsNews</td>\n",
       "      <td>December 31, 2017</td>\n",
       "    </tr>\n",
       "    <tr>\n",
       "      <th>3</th>\n",
       "      <td>FBI Russia probe helped by Australian diplomat...</td>\n",
       "      <td>WASHINGTON (Reuters) - Trump campaign adviser ...</td>\n",
       "      <td>politicsNews</td>\n",
       "      <td>December 30, 2017</td>\n",
       "    </tr>\n",
       "    <tr>\n",
       "      <th>4</th>\n",
       "      <td>Trump wants Postal Service to charge 'much mor...</td>\n",
       "      <td>SEATTLE/WASHINGTON (Reuters) - President Donal...</td>\n",
       "      <td>politicsNews</td>\n",
       "      <td>December 29, 2017</td>\n",
       "    </tr>\n",
       "  </tbody>\n",
       "</table>\n",
       "</div>"
      ],
      "text/plain": [
       "                                               title  \\\n",
       "0  As U.S. budget fight looms, Republicans flip t...   \n",
       "1  U.S. military to accept transgender recruits o...   \n",
       "2  Senior U.S. Republican senator: 'Let Mr. Muell...   \n",
       "3  FBI Russia probe helped by Australian diplomat...   \n",
       "4  Trump wants Postal Service to charge 'much mor...   \n",
       "\n",
       "                                                text       subject  \\\n",
       "0  WASHINGTON (Reuters) - The head of a conservat...  politicsNews   \n",
       "1  WASHINGTON (Reuters) - Transgender people will...  politicsNews   \n",
       "2  WASHINGTON (Reuters) - The special counsel inv...  politicsNews   \n",
       "3  WASHINGTON (Reuters) - Trump campaign adviser ...  politicsNews   \n",
       "4  SEATTLE/WASHINGTON (Reuters) - President Donal...  politicsNews   \n",
       "\n",
       "                 date  \n",
       "0  December 31, 2017   \n",
       "1  December 29, 2017   \n",
       "2  December 31, 2017   \n",
       "3  December 30, 2017   \n",
       "4  December 29, 2017   "
      ]
     },
     "execution_count": 4,
     "metadata": {},
     "output_type": "execute_result"
    }
   ],
   "source": [
    "true_data = pd.read_csv('data/True.csv')\n",
    "true_data.head()"
   ]
  },
  {
   "cell_type": "markdown",
   "id": "e63f9f67-ac53-46cc-abc8-0d14b048fb2a",
   "metadata": {
    "id": "e63f9f67-ac53-46cc-abc8-0d14b048fb2a"
   },
   "source": [
    "Assigning Classes to the Dataset"
   ]
  },
  {
   "cell_type": "code",
   "execution_count": 5,
   "id": "13c6957f-797b-4fe2-8b2a-daa10f157765",
   "metadata": {
    "id": "13c6957f-797b-4fe2-8b2a-daa10f157765"
   },
   "outputs": [],
   "source": [
    "true_data[\"label\"] = 1\n",
    "fake_data[\"label\"] = 0"
   ]
  },
  {
   "cell_type": "markdown",
   "id": "5737d553-e902-4c2e-8e07-152bd39758b6",
   "metadata": {
    "id": "5737d553-e902-4c2e-8e07-152bd39758b6"
   },
   "source": [
    "Merging Both the Dataset"
   ]
  },
  {
   "cell_type": "code",
   "execution_count": 6,
   "id": "c9fde258-6357-4c61-b65a-1511ef8d9f5f",
   "metadata": {
    "id": "c9fde258-6357-4c61-b65a-1511ef8d9f5f"
   },
   "outputs": [],
   "source": [
    "data = pd.concat([true_data, fake_data], axis=0)"
   ]
  },
  {
   "cell_type": "markdown",
   "id": "a43f1432-f622-4f55-814b-beba9d486fdb",
   "metadata": {
    "id": "a43f1432-f622-4f55-814b-beba9d486fdb"
   },
   "source": [
    "Visualization of the text data based on subject column"
   ]
  },
  {
   "cell_type": "code",
   "execution_count": 7,
   "id": "934fe91d-e4ce-4a1d-b31f-1baf6d9a912c",
   "metadata": {
    "colab": {
     "base_uri": "https://localhost:8080/",
     "height": 666
    },
    "id": "934fe91d-e4ce-4a1d-b31f-1baf6d9a912c",
    "outputId": "dcc80abd-05ba-4d9c-9151-a02579ca2ee7"
   },
   "outputs": [
    {
     "data": {
      "text/plain": [
       "[Text(0, 0, 'politicsNews'),\n",
       " Text(1, 0, 'worldnews'),\n",
       " Text(2, 0, 'News'),\n",
       " Text(3, 0, 'politics'),\n",
       " Text(4, 0, 'Government News'),\n",
       " Text(5, 0, 'left-news'),\n",
       " Text(6, 0, 'US_News'),\n",
       " Text(7, 0, 'Middle-east')]"
      ]
     },
     "execution_count": 7,
     "metadata": {},
     "output_type": "execute_result"
    },
    {
     "data": {
      "image/png": "[encoded data removed]",
      "text/plain": [
       "<Figure size 600x400 with 1 Axes>"
      ]
     },
     "metadata": {},
     "output_type": "display_data"
    }
   ],
   "source": [
    "plt.figure(figsize = (6,4))\n",
    "sns.set(style = \"whitegrid\",font_scale = 1.0)\n",
    "chart = sns.countplot(x = \"subject\", data = data)\n",
    "chart.set_xticklabels(chart.get_xticklabels(),rotation=90)"
   ]
  },
  {
   "cell_type": "markdown",
   "id": "csUyV6ooM_fC",
   "metadata": {
    "id": "csUyV6ooM_fC"
   },
   "source": [
    "--------------------------------------------------------------"
   ]
  },
  {
   "cell_type": "markdown",
   "id": "8c238285-6127-49bd-a2a6-1500532fd0d5",
   "metadata": {
    "id": "8c238285-6127-49bd-a2a6-1500532fd0d5"
   },
   "source": [
    "<font size=\"4\">**Data preprocessing**</font>"
   ]
  },
  {
   "cell_type": "code",
   "execution_count": 8,
   "id": "9d8ede7a-b883-4d8e-8f9b-94fba6206b98",
   "metadata": {
    "id": "9d8ede7a-b883-4d8e-8f9b-94fba6206b98"
   },
   "outputs": [],
   "source": [
    "data['text'] = data['title'] +' '+data['text']\n",
    "del data['title']\n",
    "del data['subject']\n",
    "del data['date']"
   ]
  },
  {
   "cell_type": "code",
   "execution_count": 9,
   "id": "de9c8121-f290-4020-9fbf-7ee074fafbf9",
   "metadata": {
    "colab": {
     "base_uri": "https://localhost:8080/",
     "height": 206
    },
    "id": "de9c8121-f290-4020-9fbf-7ee074fafbf9",
    "outputId": "79d53370-39be-4aaf-896d-456a75648547"
   },
   "outputs": [
    {
     "data": {
      "text/html": [
       "<div>\n",
       "<style scoped>\n",
       "    .dataframe tbody tr th:only-of-type {\n",
       "        vertical-align: middle;\n",
       "    }\n",
       "\n",
       "    .dataframe tbody tr th {\n",
       "        vertical-align: top;\n",
       "    }\n",
       "\n",
       "    .dataframe thead th {\n",
       "        text-align: right;\n",
       "    }\n",
       "</style>\n",
       "<table border=\"1\" class=\"dataframe\">\n",
       "  <thead>\n",
       "    <tr style=\"text-align: right;\">\n",
       "      <th></th>\n",
       "      <th>text</th>\n",
       "      <th>label</th>\n",
       "    </tr>\n",
       "  </thead>\n",
       "  <tbody>\n",
       "    <tr>\n",
       "      <th>0</th>\n",
       "      <td>As U.S. budget fight looms, Republicans flip t...</td>\n",
       "      <td>1</td>\n",
       "    </tr>\n",
       "    <tr>\n",
       "      <th>1</th>\n",
       "      <td>U.S. military to accept transgender recruits o...</td>\n",
       "      <td>1</td>\n",
       "    </tr>\n",
       "    <tr>\n",
       "      <th>2</th>\n",
       "      <td>Senior U.S. Republican senator: 'Let Mr. Muell...</td>\n",
       "      <td>1</td>\n",
       "    </tr>\n",
       "    <tr>\n",
       "      <th>3</th>\n",
       "      <td>FBI Russia probe helped by Australian diplomat...</td>\n",
       "      <td>1</td>\n",
       "    </tr>\n",
       "    <tr>\n",
       "      <th>4</th>\n",
       "      <td>Trump wants Postal Service to charge 'much mor...</td>\n",
       "      <td>1</td>\n",
       "    </tr>\n",
       "  </tbody>\n",
       "</table>\n",
       "</div>"
      ],
      "text/plain": [
       "                                                text  label\n",
       "0  As U.S. budget fight looms, Republicans flip t...      1\n",
       "1  U.S. military to accept transgender recruits o...      1\n",
       "2  Senior U.S. Republican senator: 'Let Mr. Muell...      1\n",
       "3  FBI Russia probe helped by Australian diplomat...      1\n",
       "4  Trump wants Postal Service to charge 'much mor...      1"
      ]
     },
     "execution_count": 9,
     "metadata": {},
     "output_type": "execute_result"
    }
   ],
   "source": [
    "data.head()"
   ]
  },
  {
   "cell_type": "markdown",
   "id": "4652748f-4c28-43e0-ab74-68acb431d180",
   "metadata": {
    "id": "4652748f-4c28-43e0-ab74-68acb431d180"
   },
   "source": [
    "As the title, author column will not going to be helpful in identification of the news. So, we can drop these column."
   ]
  },
  {
   "cell_type": "code",
   "execution_count": 10,
   "id": "4833cc13-bfbe-4447-b4b7-f4253170b193",
   "metadata": {
    "colab": {
     "base_uri": "https://localhost:8080/"
    },
    "id": "4833cc13-bfbe-4447-b4b7-f4253170b193",
    "outputId": "9c4e7858-6320-40b5-fce2-3d426930687c"
   },
   "outputs": [
    {
     "data": {
      "text/plain": [
       "(44898, 2)"
      ]
     },
     "execution_count": 10,
     "metadata": {},
     "output_type": "execute_result"
    }
   ],
   "source": [
    "data.shape"
   ]
  },
  {
   "cell_type": "markdown",
   "id": "74ed0eb9-3afb-43c5-b0a3-1a13dc63f239",
   "metadata": {
    "id": "74ed0eb9-3afb-43c5-b0a3-1a13dc63f239"
   },
   "source": [
    "Check if there is any null value (If so, then we will drop those rows)"
   ]
  },
  {
   "cell_type": "code",
   "execution_count": 11,
   "id": "32e91398-a10c-4ce9-a0b8-f1331e6482fc",
   "metadata": {
    "colab": {
     "base_uri": "https://localhost:8080/"
    },
    "id": "32e91398-a10c-4ce9-a0b8-f1331e6482fc",
    "outputId": "0ecc9c58-2ad7-4d65-c2d6-c4cacb4d3d66"
   },
   "outputs": [
    {
     "data": {
      "text/plain": [
       "text     0\n",
       "label    0\n",
       "dtype: int64"
      ]
     },
     "execution_count": 11,
     "metadata": {},
     "output_type": "execute_result"
    }
   ],
   "source": [
    "data.isnull().sum() # get the count of missing/NULL values for each column. if present remove missing values"
   ]
  },
  {
   "cell_type": "markdown",
   "id": "fc7c10c8-bca7-4fdd-971e-ee2e9276ff1f",
   "metadata": {
    "id": "fc7c10c8-bca7-4fdd-971e-ee2e9276ff1f"
   },
   "source": [
    " Now we have to shuffle the dataset to prevent the model to get bias"
   ]
  },
  {
   "cell_type": "code",
   "execution_count": 12,
   "id": "60329ea8-7192-4c8d-aab6-a89fd7215f8d",
   "metadata": {
    "colab": {
     "base_uri": "https://localhost:8080/",
     "height": 206
    },
    "id": "60329ea8-7192-4c8d-aab6-a89fd7215f8d",
    "outputId": "811544a3-d419-482f-f370-5b8c56f3226f"
   },
   "outputs": [
    {
     "data": {
      "text/html": [
       "<div>\n",
       "<style scoped>\n",
       "    .dataframe tbody tr th:only-of-type {\n",
       "        vertical-align: middle;\n",
       "    }\n",
       "\n",
       "    .dataframe tbody tr th {\n",
       "        vertical-align: top;\n",
       "    }\n",
       "\n",
       "    .dataframe thead th {\n",
       "        text-align: right;\n",
       "    }\n",
       "</style>\n",
       "<table border=\"1\" class=\"dataframe\">\n",
       "  <thead>\n",
       "    <tr style=\"text-align: right;\">\n",
       "      <th></th>\n",
       "      <th>text</th>\n",
       "      <th>label</th>\n",
       "    </tr>\n",
       "  </thead>\n",
       "  <tbody>\n",
       "    <tr>\n",
       "      <th>0</th>\n",
       "      <td>Right-Wing Pastor Calls Upon Christians To Di...</td>\n",
       "      <td>0</td>\n",
       "    </tr>\n",
       "    <tr>\n",
       "      <th>1</th>\n",
       "      <td>Hillary’s New Ad Brilliantly Uses Those Who H...</td>\n",
       "      <td>0</td>\n",
       "    </tr>\n",
       "    <tr>\n",
       "      <th>2</th>\n",
       "      <td>BREAKING: WHY IS OBAMA Sending Huge Number Of ...</td>\n",
       "      <td>0</td>\n",
       "    </tr>\n",
       "    <tr>\n",
       "      <th>3</th>\n",
       "      <td>Turkish nationalist opposition seeks to secure...</td>\n",
       "      <td>1</td>\n",
       "    </tr>\n",
       "    <tr>\n",
       "      <th>4</th>\n",
       "      <td>Clinton leads Trump by 2 points in Fox News po...</td>\n",
       "      <td>1</td>\n",
       "    </tr>\n",
       "  </tbody>\n",
       "</table>\n",
       "</div>"
      ],
      "text/plain": [
       "                                                text  label\n",
       "0   Right-Wing Pastor Calls Upon Christians To Di...      0\n",
       "1   Hillary’s New Ad Brilliantly Uses Those Who H...      0\n",
       "2  BREAKING: WHY IS OBAMA Sending Huge Number Of ...      0\n",
       "3  Turkish nationalist opposition seeks to secure...      1\n",
       "4  Clinton leads Trump by 2 points in Fox News po...      1"
      ]
     },
     "execution_count": 12,
     "metadata": {},
     "output_type": "execute_result"
    }
   ],
   "source": [
    "#Shuffling the data by sampling it randomly, then resetting the index and dropping the previous index column\n",
    "data = data.sample(frac=1).reset_index(drop=True)\n",
    "data.head()"
   ]
  },
  {
   "cell_type": "markdown",
   "id": "600d4362-f13e-4b89-a2be-8fd43a3e899f",
   "metadata": {
    "id": "600d4362-f13e-4b89-a2be-8fd43a3e899f"
   },
   "source": [
    "Now Let’s explore the unique values in the each category using below code."
   ]
  },
  {
   "cell_type": "code",
   "execution_count": 13,
   "id": "0d61e19e-af3b-4bd7-899a-42ad1a711df7",
   "metadata": {
    "colab": {
     "base_uri": "https://localhost:8080/",
     "height": 476
    },
    "id": "0d61e19e-af3b-4bd7-899a-42ad1a711df7",
    "outputId": "fb949cfa-4b97-4dd2-b226-0f5e56ad9ee9"
   },
   "outputs": [
    {
     "data": {
      "text/plain": [
       "<Axes: xlabel='label', ylabel='count'>"
      ]
     },
     "execution_count": 13,
     "metadata": {},
     "output_type": "execute_result"
    },
    {
     "data": {
      "image/png": "[encoded data removed]",
      "text/plain": [
       "<Figure size 640x480 with 1 Axes>"
      ]
     },
     "metadata": {},
     "output_type": "display_data"
    }
   ],
   "source": [
    "sns.countplot(data=data,\n",
    "              x='label',\n",
    "              order=data['label'].value_counts().index)"
   ]
  },
  {
   "cell_type": "markdown",
   "id": "z4ri5G29NDtn",
   "metadata": {
    "id": "z4ri5G29NDtn"
   },
   "source": [
    "--------------------------------------------------------------"
   ]
  },
  {
   "cell_type": "markdown",
   "id": "9663eb04-37cd-49fd-bfd2-997dad697a3e",
   "metadata": {
    "id": "9663eb04-37cd-49fd-bfd2-997dad697a3e"
   },
   "source": [
    "<font size=\"4\">**Data Cleaning**</font>"
   ]
  },
  {
   "cell_type": "markdown",
   "id": "945c6dd0-a316-4c47-92bc-2339505de433",
   "metadata": {
    "id": "945c6dd0-a316-4c47-92bc-2339505de433"
   },
   "source": [
    "Once we have all the required modules, we can create a function name preprocess text. This function will preprocess all the data given as input."
   ]
  },
  {
   "cell_type": "code",
   "execution_count": 14,
   "id": "3e447bc1-4def-4ca3-89b3-0ce11ee82bd0",
   "metadata": {
    "id": "3e447bc1-4def-4ca3-89b3-0ce11ee82bd0"
   },
   "outputs": [],
   "source": [
    "def preprocess_text(text):\n",
    "    # TODO: create a function to clean your data\n",
    "    # Remove punctuation\n",
    "    text = text.translate(str.maketrans('', '', string.punctuation))\n",
    "\n",
    "    # Convert text to lowercase\n",
    "    text = text.lower()\n",
    "\n",
    "    # Tokenize the text\n",
    "    tokens = nltk.word_tokenize(text)\n",
    "\n",
    "    # Remove stopwords\n",
    "    stop_words = set(stopwords.words('english'))\n",
    "    tokens = [token for token in tokens if token not in stop_words]\n",
    "\n",
    "    # Lemmatize the tokens\n",
    "    lemmatizer = WordNetLemmatizer()\n",
    "    tokens = [lemmatizer.lemmatize(token) for token in tokens]\n",
    "\n",
    "    # Join the tokens back into a single string\n",
    "    preprocessed_text = ' '.join(tokens)\n",
    "\n",
    "    return preprocessed_text\n",
    "\n",
    "data['text'] = data['text'].apply(preprocess_text)"
   ]
  },
  {
   "cell_type": "markdown",
   "id": "57b30dbe-9ad1-425b-a27c-a222616a8b28",
   "metadata": {
    "id": "57b30dbe-9ad1-425b-a27c-a222616a8b28"
   },
   "source": [
    "<font size=\"4\">**Converting text into Vectors**</font>"
   ]
  },
  {
   "cell_type": "code",
   "execution_count": 15,
   "id": "1660b5d8-c160-47c0-9a26-6471540ad6c4",
   "metadata": {
    "colab": {
     "base_uri": "https://localhost:8080/"
    },
    "id": "1660b5d8-c160-47c0-9a26-6471540ad6c4",
    "outputId": "f4e7ec24-a02e-4d5f-9e01-31227ccac953"
   },
   "outputs": [
    {
     "name": "stdout",
     "output_type": "stream",
     "text": [
      "Shape of vectorized data: (44898, 219110)\n"
     ]
    }
   ],
   "source": [
    "#TODO: explore different vectorization available with sklearn.feature_extraction.text\n",
    "\n",
    "\n",
    "# Initialize the TF-IDF vectorizer\n",
    "vectorizer = TfidfVectorizer()\n",
    "\n",
    "# Fit the vectorizer to the preprocessed text data\n",
    "X = vectorizer.fit_transform(data['text'])\n",
    "\n",
    "# Print the shape of the vectorized data\n",
    "print(\"Shape of vectorized data:\", X.shape)\n",
    "\n"
   ]
  },
  {
   "cell_type": "markdown",
   "id": "jNvbJPYdIXeF",
   "metadata": {
    "id": "jNvbJPYdIXeF"
   },
   "source": [
    "-------------------------------------------------------------"
   ]
  },
  {
   "cell_type": "markdown",
   "id": "4bedd2b5-bc10-44f2-a254-7240d97998b6",
   "metadata": {
    "id": "4bedd2b5-bc10-44f2-a254-7240d97998b6"
   },
   "source": [
    "<font size=\"4\">**Model training, Evaluation, and Prediction**</font>"
   ]
  },
  {
   "cell_type": "code",
   "execution_count": 16,
   "id": "be320ccb-91cc-4f16-beb6-af7bd1bb8cec",
   "metadata": {
    "colab": {
     "base_uri": "https://localhost:8080/"
    },
    "id": "be320ccb-91cc-4f16-beb6-af7bd1bb8cec",
    "outputId": "fb21c4c1-cc9d-42f7-ff05-e11f55d33bcf"
   },
   "outputs": [
    {
     "name": "stdout",
     "output_type": "stream",
     "text": [
      "Accuracy: 0.987750556792873\n"
     ]
    }
   ],
   "source": [
    "#TODO: Model training and print the accuracy score \n",
    "\n",
    "# Split the data into training and testing sets\n",
    "X_train, X_test, y_train, y_test = train_test_split(X, data['label'], test_size=0.2, random_state=42)\n",
    "\n",
    "# Initialize the Random Forest model\n",
    "model = RandomForestClassifier()\n",
    "\n",
    "# Train the model\n",
    "model.fit(X_train, y_train)\n",
    "\n",
    "# Predict on the test set\n",
    "y_pred = model.predict(X_test)\n",
    "\n",
    "# Calculate the accuracy score\n",
    "accuracy = accuracy_score(y_test, y_pred)\n",
    "print(\"Accuracy:\", accuracy)"
   ]
  },
  {
   "cell_type": "code",
   "execution_count": 17,
   "id": "10695133-29fa-48dd-bcab-72ebe1c4047e",
   "metadata": {
    "colab": {
     "base_uri": "https://localhost:8080/"
    },
    "id": "10695133-29fa-48dd-bcab-72ebe1c4047e",
    "outputId": "c2922df1-81b0-4e1e-e847-a0faa2f9c525"
   },
   "outputs": [
    {
     "name": "stdout",
     "output_type": "stream",
     "text": [
      "Confusion Matrix:\n",
      "[[4645   56]\n",
      " [  54 4225]]\n"
     ]
    }
   ],
   "source": [
    "# Display the Confusion matrix of Results from your classification algorithm\n",
    "# Calculate the confusion matrix\n",
    "confusion = confusion_matrix(y_test, y_pred)\n",
    "\n",
    "# Display the confusion matrix\n",
    "print(\"Confusion Matrix:\")\n",
    "print(confusion)"
   ]
  },
  {
   "cell_type": "markdown",
   "id": "yAcG7ZNHIbsJ",
   "metadata": {
    "id": "yAcG7ZNHIbsJ"
   },
   "source": [
    "**Accuracy**: The accuracy of our model is 0.9877, indicating that it correctly classifies approximately 98.77% of the instances in the test set.\n",
    "\n",
    "**Confusion Matrix**: The confusion matrix provides a breakdown of the predicted labels compared to the actual labels.\n",
    "Here's the interpretation of the confusion matrix:\n",
    "\n",
    "True Positives (4645): The number of instances correctly classified as \"True\" news.\n",
    "\n",
    "True Negatives (4225): The number of instances correctly classified as \"Fake\" news.\n",
    "\n",
    "False Positives (56): The number of instances wrongly classified as \"True\" news (actually \"Fake\" news).\n",
    "\n",
    "False Negatives (54): The number of instances wrongly classified as \"Fake\" news (actually \"True\" news).\n",
    "\n",
    "Overall, our model performs well with a high accuracy score of 0.9877"
   ]
  },
  {
   "cell_type": "markdown",
   "id": "oOoVYa4qKOxU",
   "metadata": {
    "id": "oOoVYa4qKOxU"
   },
   "source": [
    "---------------------------------------------------------------"
   ]
  },
  {
   "cell_type": "markdown",
   "id": "BVdUSRRPFXio",
   "metadata": {
    "id": "BVdUSRRPFXio"
   },
   "source": [
    "# Cross Validation"
   ]
  },
  {
   "cell_type": "code",
   "execution_count": 18,
   "id": "f5WmsDqYFhOr",
   "metadata": {
    "id": "f5WmsDqYFhOr"
   },
   "outputs": [],
   "source": [
    "from sklearn.model_selection import cross_val_score\n",
    "from sklearn.utils import shuffle"
   ]
  },
  {
   "cell_type": "code",
   "execution_count": 19,
   "id": "25016dd6-1929-4222-9d5b-a21fc6817e7a",
   "metadata": {
    "colab": {
     "base_uri": "https://localhost:8080/"
    },
    "id": "25016dd6-1929-4222-9d5b-a21fc6817e7a",
    "outputId": "9021f88b-8ef8-4279-c9ae-2604c000adcf"
   },
   "outputs": [
    {
     "name": "stdout",
     "output_type": "stream",
     "text": [
      "Cross-Validation Scores: [0.98106904 0.9766147  0.97550111 0.98329621 0.97995546]\n",
      "Mean Accuracy: 0.9792873051224944\n"
     ]
    }
   ],
   "source": [
    "\n",
    "# Shuffle the data\n",
    "data = shuffle(data)\n",
    "\n",
    "# Reduce the dataset size for faster cross-validation\n",
    "subset_data = data.sample(frac=0.1, random_state=42)\n",
    "\n",
    "# Initialize the TF-IDF vectorizer\n",
    "vectorizer = TfidfVectorizer()\n",
    "\n",
    "# Fit the vectorizer to the preprocessed text data\n",
    "X = vectorizer.fit_transform(subset_data['text'])\n",
    "y = subset_data['label']\n",
    "\n",
    "# Initialize the Random Forest model\n",
    "model = RandomForestClassifier()\n",
    "\n",
    "# Perform cross-validation on the smaller subset of data\n",
    "cv_scores = cross_val_score(model, X, y, cv=5)\n",
    "\n",
    "# Print the cross-validation scores\n",
    "print(\"Cross-Validation Scores:\", cv_scores)\n",
    "print(\"Mean Accuracy:\", cv_scores.mean())\n"
   ]
  },
  {
   "cell_type": "markdown",
   "id": "0310yyK0JuDk",
   "metadata": {
    "id": "0310yyK0JuDk"
   },
   "source": [
    "It seems that our random forest model is performing consistently well across different folds, with high cross-validation scores ranging from approximately 0.979 to 0.981. The mean cross-validation score of 0.979 indicates that the model is achieving a high level of accuracy on average.\n",
    "\n",
    "Overall, these results suggest that our random forest model is performing well and generalizing effectively to unseen data, based on the cross-validation evaluation."
   ]
  },
  {
   "cell_type": "markdown",
   "id": "7Cfo1Re7KSrU",
   "metadata": {
    "id": "7Cfo1Re7KSrU"
   },
   "source": [
    "--------------------------------------------------------------------"
   ]
  },
  {
   "cell_type": "markdown",
   "id": "Fo2TgQqZF9YT",
   "metadata": {
    "id": "Fo2TgQqZF9YT"
   },
   "source": [
    "# Grid Search for Hyperparameter Tuning"
   ]
  },
  {
   "cell_type": "code",
   "execution_count": 22,
   "id": "oKjWMUSyGCym",
   "metadata": {
    "id": "oKjWMUSyGCym"
   },
   "outputs": [],
   "source": [
    "from sklearn.model_selection import GridSearchCV\n",
    "from sklearn.utils import shuffle\n"
   ]
  },
  {
   "cell_type": "code",
   "execution_count": 23,
   "id": "uL8g0QtsF7cD",
   "metadata": {
    "colab": {
     "base_uri": "https://localhost:8080/"
    },
    "id": "uL8g0QtsF7cD",
    "outputId": "1546c17d-c33b-4617-b3b3-c82963ed62e1"
   },
   "outputs": [
    {
     "name": "stdout",
     "output_type": "stream",
     "text": [
      "Best parameters: {'max_depth': None, 'min_samples_split': 5, 'n_estimators': 200}\n",
      "Best cross-validation score: 0.9763996795600377\n",
      "Accuracy: 0.9824053452115813\n"
     ]
    }
   ],
   "source": [
    "\n",
    "# Shuffle the training data\n",
    "X_train, y_train = shuffle(X_train, y_train, random_state=42)\n",
    "\n",
    "# Reduce the dataset size for faster grid search\n",
    "subset_X_train = X_train[:10000]\n",
    "subset_y_train = y_train[:10000]\n",
    "\n",
    "# Define the hyperparameters and their possible values\n",
    "param_grid = {\n",
    "    'n_estimators': [100, 200],\n",
    "    'max_depth': [None, 5],\n",
    "    'min_samples_split': [2, 5]\n",
    "}\n",
    "\n",
    "# Initialize the Random Forest model\n",
    "model = RandomForestClassifier()\n",
    "\n",
    "# Perform grid search with simplified hyperparameter values and reduced dataset\n",
    "grid_search = GridSearchCV(model, param_grid, cv=3)\n",
    "grid_search.fit(subset_X_train, subset_y_train)\n",
    "\n",
    "# Print the best parameters found during grid search\n",
    "print(\"Best parameters:\", grid_search.best_params_)\n",
    "\n",
    "# Print the best cross-validation score\n",
    "print(\"Best cross-validation score:\", grid_search.best_score_)\n",
    "\n",
    "# Get the best model from grid search\n",
    "best_model = grid_search.best_estimator_\n",
    "\n",
    "# Predict on the test set using the best model\n",
    "y_pred = best_model.predict(X_test)\n",
    "\n",
    "# Calculate the accuracy score\n",
    "accuracy = accuracy_score(y_test, y_pred)\n",
    "print(\"Accuracy:\", accuracy)\n",
    "\n"
   ]
  },
  {
   "cell_type": "markdown",
   "id": "ryM58Op5Kdwu",
   "metadata": {
    "id": "ryM58Op5Kdwu"
   },
   "source": [
    "**Best parameters: {'max_depth': None, 'min_samples_split': 5, 'n_estimators': 200}**\n",
    "The best combination of hyperparameters found by the grid search is a **max_depth** of **None**, indicating that there is no limit on the depth of each tree in the random forest. The **min_samples_split** is set to 5, meaning that a node will be split if it contains at least 5 samples. The number of estimators (trees) in the random forest is set to 200.\n",
    "\n",
    "**Best cross-validation score: 0.9763996795600377**\n",
    "The cross-validation score is a measure of how well the model performs on unseen data. It is an average of the performance across different folds of the cross-validation. In this case, the best model achieved a cross-validation score of 0.9764, indicating a high level of accuracy on unseen data.\n",
    "\n",
    "**Accuracy: 0.9824053452115813**\n",
    "The accuracy of the model on the test set is 0.9824, meaning that approximately 98.24% of the instances in the test set were correctly classified by the model."
   ]
  },
  {
   "cell_type": "markdown",
   "id": "z6fSnG9EKrtt",
   "metadata": {
    "id": "z6fSnG9EKrtt"
   },
   "source": [
    "---------------------------------------------------------------------"
   ]
  },
  {
   "cell_type": "markdown",
   "id": "xgdFPrWAHEe1",
   "metadata": {
    "id": "xgdFPrWAHEe1"
   },
   "source": [
    "# Evaluating our model's performance using other metrics"
   ]
  },
  {
   "cell_type": "code",
   "execution_count": 24,
   "id": "ICsYmCPxHM9i",
   "metadata": {
    "id": "ICsYmCPxHM9i"
   },
   "outputs": [],
   "source": [
    "from sklearn.metrics import classification_report"
   ]
  },
  {
   "cell_type": "code",
   "execution_count": 25,
   "id": "UZpcGuTmHKJ6",
   "metadata": {
    "colab": {
     "base_uri": "https://localhost:8080/"
    },
    "id": "UZpcGuTmHKJ6",
    "outputId": "5e48ecd5-36a7-4413-8e95-ed539f67cf95"
   },
   "outputs": [
    {
     "name": "stdout",
     "output_type": "stream",
     "text": [
      "Classification Report:\n",
      "              precision    recall  f1-score   support\n",
      "\n",
      "           0       0.99      0.98      0.98      4701\n",
      "           1       0.98      0.98      0.98      4279\n",
      "\n",
      "    accuracy                           0.98      8980\n",
      "   macro avg       0.98      0.98      0.98      8980\n",
      "weighted avg       0.98      0.98      0.98      8980\n",
      "\n"
     ]
    }
   ],
   "source": [
    "\n",
    "# Calculate precision, recall, and F1 score\n",
    "report = classification_report(y_test, y_pred)\n",
    "\n",
    "# Print the classification report\n",
    "print(\"Classification Report:\")\n",
    "print(report)\n"
   ]
  },
  {
   "cell_type": "markdown",
   "id": "MJ_v29JFLG89",
   "metadata": {
    "id": "MJ_v29JFLG89"
   },
   "source": [
    "**Precision**: Precision is the proportion of correctly predicted positive instances out of all instances predicted as positive. For class 0 (fake news), the precision is 0.99, indicating that 99% of the predicted fake news instances were correct. For class 1 (true news), the precision is 0.98, meaning that 98% of the predicted true news instances were correct.\n",
    "\n",
    "**Recall**: Recall, also known as sensitivity, is the proportion of correctly predicted positive instances out of all actual positive instances. For class 0, the recall is 0.98, indicating that the model identified 98% of the actual fake news instances. For class 1, the recall is also 0.98, meaning that the model correctly identified 98% of the actual true news instances.\n",
    "\n",
    "**F1-score**: The F1-score is the harmonic mean of precision and recall. It provides a balanced measure of the model's performance. The F1-score for class 0 is 0.98, indicating a good balance between precision and recall for predicting fake news. The F1-score for class 1 is also 0.98, indicating a balanced performance for predicting true news.\n",
    "\n",
    "**Support**: Support refers to the number of instances in each class. For class 0 (fake news), there are 4701 instances, and for class 1 (true news), there are 4279 instances.\n",
    "\n",
    "**Accuracy**: The accuracy of the model is the proportion of correctly predicted instances out of all instances. In this case, the overall accuracy is 0.98, meaning that the model correctly classified approximately 98% of the instances in the test set.\n",
    "\n",
    "The macro avg and weighted avg values provide average metrics across all classes. In this case, both macro avg and weighted avg are 0.98, indicating a balanced performance across the classes.\n",
    "\n",
    "Overall, the classification report shows that the model achieved high precision, recall, and F1-scores for both classes, indicating its effectiveness in classifying news articles as either fake or true."
   ]
  },
  {
   "cell_type": "markdown",
   "id": "DSI76n0sLthL",
   "metadata": {
    "id": "DSI76n0sLthL"
   },
   "source": [
    "--------------------------------------------------------------"
   ]
  },
  {
   "cell_type": "code",
   "execution_count": 26,
   "id": "88476223-8f53-4424-a988-8070f983d3c1",
   "metadata": {},
   "outputs": [
    {
     "data": {
      "image/png": "[encoded data removed]",
      "text/plain": [
       "<Figure size 800x600 with 1 Axes>"
      ]
     },
     "metadata": {},
     "output_type": "display_data"
    }
   ],
   "source": [
    "from sklearn.metrics import roc_curve, auc\n",
    "import matplotlib.pyplot as plt\n",
    "\n",
    "# Get predicted probabilities for positive class\n",
    "y_pred_proba = best_model.predict_proba(X_test)[:, 1]\n",
    "\n",
    "# Compute false positive rate, true positive rate, and thresholds\n",
    "fpr, tpr, thresholds = roc_curve(y_test, y_pred_proba)\n",
    "\n",
    "# Compute area under the ROC curve\n",
    "roc_auc = auc(fpr, tpr)\n",
    "\n",
    "# Plot ROC curve\n",
    "plt.figure(figsize=(8, 6))\n",
    "plt.plot(fpr, tpr, label='ROC curve (AUC = %0.2f)' % roc_auc)\n",
    "plt.plot([0, 1], [0, 1], 'k--')  # Diagonal reference line\n",
    "plt.xlim([0.0, 1.0])\n",
    "plt.ylim([0.0, 1.05])\n",
    "plt.xlabel('False Positive Rate')\n",
    "plt.ylabel('True Positive Rate')\n",
    "plt.title('Receiver Operating Characteristic (ROC)')\n",
    "plt.legend(loc='lower right')\n",
    "plt.show()\n"
   ]
  },
  {
   "cell_type": "markdown",
   "id": "03179269-f2f7-4cd4-8879-8db142655181",
   "metadata": {},
   "source": [
    "**model.decision_function(X_test)** calculates the decision function or predicted probabilities for the positive class. **roc_curve** computes the false positive rate (FPR), true positive rate (TPR), and corresponding thresholds. **auc** calculates the area under the ROC curve (AUC) using the FPR and TPR values.\n",
    "\n",
    "The ROC curve is plotted using **plt.plot**, with the FPR on the x-axis and TPR on the y-axis. The AUC is displayed in the plot's legend. The plt.xlim, plt.ylim, plt.xlabel, plt.ylabel, and plt.title functions are used to set the plot's limits and labels.\n",
    "\n"
   ]
  },
  {
   "cell_type": "markdown",
   "id": "853a9b4b-415c-41dd-a259-a86a8d033c5c",
   "metadata": {},
   "source": [
    "-----------------------------------------------------------------------------------------------------------------------------"
   ]
  }
 ],
 "metadata": {
  "colab": {
   "provenance": []
  },
  "kernelspec": {
   "display_name": "fakenews",
   "language": "python",
   "name": "fakenews"
  },
  "language_info": {
   "codemirror_mode": {
    "name": "ipython",
    "version": 3
   },
   "file_extension": ".py",
   "mimetype": "text/x-python",
   "name": "python",
   "nbconvert_exporter": "python",
   "pygments_lexer": "ipython3",
   "version": "3.9.16"
  }
 },
 "nbformat": 4,
 "nbformat_minor": 5
}
